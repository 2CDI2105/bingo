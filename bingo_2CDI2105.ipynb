{
  "nbformat": 4,
  "nbformat_minor": 0,
  "metadata": {
    "colab": {
      "provenance": []
    },
    "kernelspec": {
      "name": "python3",
      "display_name": "Python 3"
    },
    "language_info": {
      "name": "python"
    }
  },
  "cells": [
    {
      "cell_type": "code",
      "execution_count": 12,
      "metadata": {
        "colab": {
          "base_uri": "https://localhost:8080/"
        },
        "id": "Qe2mmLbS09IN",
        "outputId": "7fbaf70e-4871-4b46-ae9c-ea2c8c9116cf"
      },
      "outputs": [
        {
          "output_type": "stream",
          "name": "stdout",
          "text": [
            "63\n",
            "70\n",
            "45\n",
            "21\n",
            "73\n",
            "13\n",
            "74\n",
            "24\n",
            "20\n",
            "26\n",
            "72\n",
            "57\n",
            "62\n",
            "32\n",
            "59\n",
            "27\n",
            "8\n",
            "69\n",
            "23\n",
            "10\n",
            "22\n",
            "48\n",
            "6\n",
            "32\n",
            "53\n",
            "2\n",
            "46\n",
            "17\n",
            "42\n",
            "34\n",
            "52\n",
            "57\n",
            "74\n",
            "42\n",
            "51\n",
            "2\n",
            "11\n",
            "9\n",
            "37\n",
            "25\n",
            "27\n",
            "8\n",
            "61\n",
            "52\n",
            "18\n",
            "29\n",
            "45\n",
            "27\n",
            "39\n",
            "18\n",
            "19\n",
            "2\n",
            "66\n",
            "63\n",
            "42\n",
            "33\n",
            "13\n",
            "64\n",
            "63\n",
            "70\n",
            "56\n",
            "53\n",
            "4\n",
            "63\n",
            "31\n",
            "24\n",
            "66\n",
            "39\n",
            "74\n",
            "29\n",
            "70\n",
            "51\n",
            "22\n",
            "70\n",
            "66\n"
          ]
        }
      ],
      "source": [
        "import random\n",
        "for i in range(75):\n",
        "  a=random.randint(1,75)\n",
        "  print(a)\n",
        "\n",
        ""
      ]
    },
    {
      "cell_type": "code",
      "source": [],
      "metadata": {
        "id": "kGu-KJdo1GTy"
      },
      "execution_count": 6,
      "outputs": []
    }
  ]
}